{
  "nbformat": 4,
  "nbformat_minor": 0,
  "metadata": {
    "colab": {
      "provenance": []
    },
    "kernelspec": {
      "name": "python3",
      "display_name": "Python 3"
    },
    "language_info": {
      "name": "python"
    }
  },
  "cells": [
    {
      "cell_type": "code",
      "execution_count": 4,
      "metadata": {
        "colab": {
          "base_uri": "https://localhost:8080/"
        },
        "id": "094B6KoVLFps",
        "outputId": "846a3361-6002-469c-d1a8-cd7cad209d79"
      },
      "outputs": [
        {
          "output_type": "stream",
          "name": "stdout",
          "text": [
            "     hair  feathers  eggs  milk  airborne  aquatic  predator  toothed  \\\n",
            "0       1         0     0     1         0        0         1        1   \n",
            "1       1         0     0     1         0        0         0        1   \n",
            "2       0         0     1     0         0        1         1        1   \n",
            "3       1         0     0     1         0        0         1        1   \n",
            "4       1         0     0     1         0        0         1        1   \n",
            "..    ...       ...   ...   ...       ...      ...       ...      ...   \n",
            "96      1         0     0     1         0        0         0        1   \n",
            "97      1         0     1     0         1        0         0        0   \n",
            "98      1         0     0     1         0        0         1        1   \n",
            "99      0         0     1     0         0        0         0        0   \n",
            "100     0         1     1     0         1        0         0        0   \n",
            "\n",
            "     backbone  breathes  venomous  fins  legs  tail  domestic  catsize  \n",
            "0           1         1         0     0     4     0         0        1  \n",
            "1           1         1         0     0     4     1         0        1  \n",
            "2           1         0         0     1     0     1         0        0  \n",
            "3           1         1         0     0     4     0         0        1  \n",
            "4           1         1         0     0     4     1         0        1  \n",
            "..        ...       ...       ...   ...   ...   ...       ...      ...  \n",
            "96          1         1         0     0     2     1         0        1  \n",
            "97          0         1         1     0     6     0         0        0  \n",
            "98          1         1         0     0     4     1         0        1  \n",
            "99          0         1         0     0     0     0         0        0  \n",
            "100         1         1         0     0     2     1         0        0  \n",
            "\n",
            "[101 rows x 16 columns]\n"
          ]
        }
      ],
      "source": [
        "import pandas as pd\n",
        "df = pd.read_csv('/content/zoo.csv')\n",
        "X = df.drop(['class_type', 'animal_name'], axis=1)\n",
        "y = df['class_type']\n",
        "print(X)"
      ]
    },
    {
      "cell_type": "code",
      "source": [
        "import numpy as np\n",
        "from sklearn.neighbors import KNeighborsClassifier\n",
        "from sklearn.metrics import accuracy_score\n",
        "from sklearn.utils import resample\n",
        "num_iterations = 1000\n",
        "accuracy_scores = []\n",
        "knn = KNeighborsClassifier(n_neighbors=3)\n",
        "for _ in range(num_iterations):\n",
        "    X_resampled, y_resampled = resample(X, y, replace=True, random_state=None)\n",
        "    X_train, X_test, y_train, y_test = train_test_split(X_resampled, y_resampled, test_size=0.2, random_state=None)\n",
        "    knn.fit(X_train, y_train)\n",
        "    y_pred = knn.predict(X_test)\n",
        "    accuracy = accuracy_score(y_test, y_pred)\n",
        "    accuracy_scores.append(accuracy)\n",
        "mean_accuracy = np.mean(accuracy_scores)\n",
        "print(f'Bootstrapped Mean Accuracy: {mean_accuracy}')"
      ],
      "metadata": {
        "colab": {
          "base_uri": "https://localhost:8080/"
        },
        "id": "h3wSyODwNZAy",
        "outputId": "62489651-158c-4698-b2c5-2435a1ef1cf2"
      },
      "execution_count": 7,
      "outputs": [
        {
          "output_type": "stream",
          "name": "stdout",
          "text": [
            "Bootstrapped Mean Accuracy: 0.9342380952380954\n"
          ]
        }
      ]
    }
  ]
}